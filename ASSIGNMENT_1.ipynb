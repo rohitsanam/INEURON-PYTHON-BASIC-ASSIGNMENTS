{
  "nbformat": 4,
  "nbformat_minor": 0,
  "metadata": {
    "colab": {
      "name": "ASSIGNMENT-1.ipynb",
      "provenance": []
    },
    "kernelspec": {
      "name": "python3",
      "display_name": "Python 3"
    },
    "language_info": {
      "name": "python"
    }
  },
  "cells": [
    {
      "cell_type": "markdown",
      "metadata": {
        "id": "vGdzrTkWRfy8"
      },
      "source": [
        "## 1. In the below elements which of them are values or an expression? eg:- values can be integer or string and expressions will be mathematical operators.\n",
        "\n",
        "- * \n",
        "- 'hello'\n",
        "- -87.8\n",
        "- -\n",
        "- / \n",
        "- 6 \n",
        "\n",
        "## Solution-1: From the above elements we can clearly say that *,-,/ are mathematical operators and 'hello',6,-87.8 are values."
      ]
    },
    {
      "cell_type": "markdown",
      "metadata": {
        "id": "E23HifK9SNiS"
      },
      "source": [
        "## 2. What is the difference between string and variable?\n",
        " \n",
        "Solution-2: The main difference between string and variable is string is a datatype but whereas variable is a reserved memory locations where in some memory is being allocated to the data which is pointing to that variable.\n",
        "\n",
        "For Example: If we give a variable a with a value 2 then this means in the variable a we are storing a value 2 hence a becomes a reserved memory location.\n",
        "\n",
        "Here, a is a variable and 2 is a literal.\n",
        "\n",
        "Literal: The data given to a variable."
      ]
    },
    {
      "cell_type": "markdown",
      "metadata": {
        "id": "KloYdnPdTND-"
      },
      "source": [
        "## 3. Describe three different data types.\n",
        "\n",
        "Solution-3: The three different datatypes are:\n",
        "1.Numeric\n",
        "2.String\n",
        "3.Boolean\n",
        "\n",
        "- Numeric: Numeric Datatype is a datatype which is used to store numeric values and this numeric datatype is divided into three different categories:\n",
        "\n",
        "1. Integer\n",
        "2. Float\n",
        "3. Complex Numbers\n",
        "\n",
        "Integer:- Any value which is not having any fractional part is known as Integer.\n",
        "\n",
        "ex:2,3,-1,0\n",
        "\n",
        "Float: Any value which is having both real part and fractional part is known as float in other pogramming languages like C,C++,Java this datatype is called as Floating-point value.\n",
        "\n",
        "ex: 1.2,2.4\n",
        "\n",
        "Complex Number: Complex Number is a number which has both real part and imaginary part.\n",
        "\n",
        "ex: a+ib\n",
        "      Where,\n",
        "       a --> real part\n",
        "       b --> imaginary part\n",
        "\n",
        "Note: But in Python this imaginary part is denoted with 'j' instead of i\n",
        "\n",
        "String: String datatype is a datatype which is used to represent any textual information enclosed within single or double quotes.\n",
        "\n",
        "ex: 'rohit', \"Rohit\"\n",
        "\n",
        "Note: In other programming languages like C,C++,Java there is a seperate datatype known as character datatype which is used to denote a single character enclosed within single quotes but whereas in python there is no seperate datatype we can denote a string of single characters or multiple characters in both single and double quotes.\n",
        "\n",
        "Boolean: Boolean Datatype is a datatype which is used to represent one bit of information either True or False.\n",
        "\n",
        "True --> 1\n",
        "False --> 0.\n",
        "\n"
      ]
    },
    {
      "cell_type": "markdown",
      "metadata": {
        "id": "bFWuIM2-V54S"
      },
      "source": [
        "## 4. What is an expression made up of? What do all expressions do?\n",
        "An expression is a collection of all mathematical operations mixed together is an expression and expression evaluates and gives the result as per the expression and there are some expressions wherein order of precedence is kept in mind i.e it follows BODMAS/PEMDAS theorem\n",
        "\n",
        "1. P --> Paranthesis\n",
        "2. E --> Exponentiation\n",
        "3. M --> Multiplication\n",
        "4. D --> Division\n",
        "5. A --> Addition\n",
        "6. S --> Subtraction."
      ]
    },
    {
      "cell_type": "markdown",
      "metadata": {
        "id": "p3fa_uJtW33j"
      },
      "source": [
        "## 5. This assignment statements, like spam = 10. What is the difference between an expression and a statement?\n",
        "\n",
        "This assignment statements like spam=10 basically means that we are storing a value in a variable and there is another statement like spam == 10 which basically does a equality check the statement is a condition which is evaluated to true or false and expression is a collection of mathematical operations which is computed in order to get a result."
      ]
    },
    {
      "cell_type": "markdown",
      "metadata": {
        "id": "FmA1T7BUX8Dt"
      },
      "source": [
        "## 6. After running the following code, what does the variable bacon contain?\n",
        "bacon = 22\n",
        "bacon + 1\n",
        "\n",
        "In the first line of the code we are basically creating a variable where in we are storing a value of 20 in the in the next line we are adding the value of bacon with 1 and the updated value opf bacon will become 23 because bacon has a value 22 previously after incrementing it beacame 23 so the value of bacon after running thye code is 23.\n",
        "\n",
        "o/p: bacon=23"
      ]
    },
    {
      "cell_type": "markdown",
      "metadata": {
        "id": "YDbOnnhwYr-9"
      },
      "source": [
        "## 7. What should the values of the following two terms be?\n",
        "'spam' + 'spamspam'\n",
        "'spam' * 3\n",
        "\n",
        "the value of the first term is 'spamspamspam' and the value of the second term is 'spamspamspam'.\n",
        "\n",
        "But the main difference is in the first line the concatenation operation and whereas in the second line repetition is taking place both are string operations."
      ]
    },
    {
      "cell_type": "markdown",
      "metadata": {
        "id": "qeLcqqh-aaDo"
      },
      "source": [
        "## 8. Why is eggs a valid variable name while 100 is invalid?\n",
        "\n",
        "The name of the variable eggs is valid and 100 is invalid because every programming language will follow a variable naming convention:\n",
        "\n",
        "Python Variable Naming Convention:\n",
        "\n",
        "1. The first character of the variable should be alphabet and not number \n",
        "2. Special characters are not allowed.\n",
        "3. the first character can be underscore and followed by alphabets\n",
        "\n",
        "based on the above variable naming convention rules eggs is a valid and 100 is invalid based on the first rule of the naming convention."
      ]
    },
    {
      "cell_type": "markdown",
      "metadata": {
        "id": "wOsRXJNGbcrv"
      },
      "source": [
        "## 9. What three functions can be used to get the integer, floating-point number, or string version of a value?\n",
        "\n",
        "The three functions which can be used to get the integer,floating-point and string version are int(),float(),str() functions respectively.\n",
        "\n",
        "By using the above mentioned functions we are explicitly converting a variable into the above mentioned datatypes.\n",
        "\n",
        "This conversion of data from one type to another type is known as type-casting."
      ]
    },
    {
      "cell_type": "markdown",
      "metadata": {
        "id": "B1LS4rdMb9w9"
      },
      "source": [
        "## 10. Why does this expression cause an error? How can you fix it?'I have eaten ' + 99 + ' burritos.'\n",
        " The above expression i.e 'I have eaten ' + 99 + ' burritos.' causes error because when we run this code it has to do concatenation of strings but here in this case 99 is int but the rest is string as there is a type mismatch this will cause an error:\n",
        "\n",
        " Erro caused will be a TypeError\n",
        "\n",
        " In orderto overcome that we have to type caste it to string by using the str() function."
      ]
    }
  ]
}